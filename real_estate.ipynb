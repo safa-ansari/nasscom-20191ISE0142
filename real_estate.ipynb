{
 "cells": [
  {
   "cell_type": "markdown",
   "metadata": {},
   "source": [
    "## Importing the required modules"
   ]
  },
  {
   "cell_type": "code",
   "execution_count": null,
   "metadata": {
    "execution": {
     "iopub.execute_input": "2021-10-02T09:35:20.592816Z",
     "iopub.status.busy": "2021-10-02T09:35:20.592518Z",
     "iopub.status.idle": "2021-10-02T09:35:21.575246Z",
     "shell.execute_reply": "2021-10-02T09:35:21.5743Z",
     "shell.execute_reply.started": "2021-10-02T09:35:20.592789Z"
    }
   },
   "outputs": [],
   "source": [
    "import pandas as pd\n",
    "import numpy as np\n",
    "import matplotlib.pyplot as plt\n",
    "import seaborn as sns"
   ]
  },
  {
   "cell_type": "markdown",
   "metadata": {},
   "source": [
    "## Importing the dataset we need"
   ]
  },
  {
   "cell_type": "code",
   "execution_count": null,
   "metadata": {
    "execution": {
     "iopub.execute_input": "2021-10-02T09:35:58.020858Z",
     "iopub.status.busy": "2021-10-02T09:35:58.020023Z",
     "iopub.status.idle": "2021-10-02T09:35:58.051572Z",
     "shell.execute_reply": "2021-10-02T09:35:58.050622Z",
     "shell.execute_reply.started": "2021-10-02T09:35:58.020791Z"
    }
   },
   "outputs": [],
   "source": [
    "data = pd.read_csv(\"Real estate.csv\")"
   ]
  },
  {
   "cell_type": "markdown",
   "metadata": {},
   "source": [
    "## Checking dataset for the NaN values and other EDAs"
   ]
  },
  {
   "cell_type": "code",
   "execution_count": null,
   "metadata": {
    "execution": {
     "iopub.execute_input": "2021-10-02T09:36:41.193485Z",
     "iopub.status.busy": "2021-10-02T09:36:41.193183Z",
     "iopub.status.idle": "2021-10-02T09:36:41.219776Z",
     "shell.execute_reply": "2021-10-02T09:36:41.218725Z",
     "shell.execute_reply.started": "2021-10-02T09:36:41.193458Z"
    }
   },
   "outputs": [],
   "source": [
    "data.head(5)"
   ]
  },
  {
   "cell_type": "code",
   "execution_count": null,
   "metadata": {
    "execution": {
     "iopub.execute_input": "2021-10-02T09:37:01.004905Z",
     "iopub.status.busy": "2021-10-02T09:37:01.004559Z",
     "iopub.status.idle": "2021-10-02T09:37:01.053785Z",
     "shell.execute_reply": "2021-10-02T09:37:01.052552Z",
     "shell.execute_reply.started": "2021-10-02T09:37:01.004876Z"
    }
   },
   "outputs": [],
   "source": [
    "data.describe()"
   ]
  },
  {
   "cell_type": "markdown",
   "metadata": {},
   "source": [
    "## Plotting the realtions"
   ]
  },
  {
   "cell_type": "code",
   "execution_count": null,
   "metadata": {
    "execution": {
     "iopub.execute_input": "2021-10-02T09:37:12.230005Z",
     "iopub.status.busy": "2021-10-02T09:37:12.229683Z",
     "iopub.status.idle": "2021-10-02T09:37:12.617575Z",
     "shell.execute_reply": "2021-10-02T09:37:12.616438Z",
     "shell.execute_reply.started": "2021-10-02T09:37:12.229974Z"
    }
   },
   "outputs": [],
   "source": [
    "sns.regplot(x = \"X1 transaction date\" ,y = \"Y house price of unit area\",data = data)"
   ]
  },
  {
   "cell_type": "markdown",
   "metadata": {},
   "source": [
    "You can see the relation between the year and the price."
   ]
  },
  {
   "cell_type": "code",
   "execution_count": null,
   "metadata": {
    "execution": {
     "iopub.execute_input": "2021-10-02T09:38:27.580613Z",
     "iopub.status.busy": "2021-10-02T09:38:27.579353Z",
     "iopub.status.idle": "2021-10-02T09:38:27.895008Z",
     "shell.execute_reply": "2021-10-02T09:38:27.894454Z",
     "shell.execute_reply.started": "2021-10-02T09:38:27.580559Z"
    }
   },
   "outputs": [],
   "source": [
    "sns.regplot(x = \"X2 house age\" ,y = \"Y house price of unit area\",data = data)"
   ]
  },
  {
   "cell_type": "markdown",
   "metadata": {},
   "source": [
    "You can see that the more the house age less the price in most case"
   ]
  },
  {
   "cell_type": "code",
   "execution_count": null,
   "metadata": {
    "execution": {
     "iopub.execute_input": "2021-10-02T09:39:13.904795Z",
     "iopub.status.busy": "2021-10-02T09:39:13.903752Z",
     "iopub.status.idle": "2021-10-02T09:39:14.248332Z",
     "shell.execute_reply": "2021-10-02T09:39:14.247231Z",
     "shell.execute_reply.started": "2021-10-02T09:39:13.904737Z"
    }
   },
   "outputs": [],
   "source": [
    "sns.regplot(x = \"X3 distance to the nearest MRT station\" ,y = \"Y house price of unit area\",data = data)"
   ]
  },
  {
   "cell_type": "markdown",
   "metadata": {},
   "source": [
    "You can see if the house is near the MRT station then the prices is high as compare to far places"
   ]
  },
  {
   "cell_type": "code",
   "execution_count": null,
   "metadata": {
    "execution": {
     "iopub.execute_input": "2021-10-02T09:39:54.341494Z",
     "iopub.status.busy": "2021-10-02T09:39:54.341059Z",
     "iopub.status.idle": "2021-10-02T09:39:54.669618Z",
     "shell.execute_reply": "2021-10-02T09:39:54.668659Z",
     "shell.execute_reply.started": "2021-10-02T09:39:54.34146Z"
    }
   },
   "outputs": [],
   "source": [
    "sns.regplot(x = \"X4 number of convenience stores\" ,y = \"Y house price of unit area\",data = data)"
   ]
  },
  {
   "cell_type": "markdown",
   "metadata": {},
   "source": [
    "If more stores near the house the prices is high"
   ]
  },
  {
   "cell_type": "code",
   "execution_count": null,
   "metadata": {
    "execution": {
     "iopub.execute_input": "2021-10-02T09:40:53.123853Z",
     "iopub.status.busy": "2021-10-02T09:40:53.122985Z",
     "iopub.status.idle": "2021-10-02T09:40:53.465843Z",
     "shell.execute_reply": "2021-10-02T09:40:53.465182Z",
     "shell.execute_reply.started": "2021-10-02T09:40:53.123815Z"
    }
   },
   "outputs": [],
   "source": [
    "plt.figure(figsize=(8,3))\n",
    "sns.displot(x=data['Y house price of unit area'], kde=True, aspect=2, color='purple')\n",
    "plt.xlabel('house price of unit area')"
   ]
  },
  {
   "cell_type": "code",
   "execution_count": null,
   "metadata": {
    "execution": {
     "iopub.execute_input": "2021-10-02T09:41:20.83981Z",
     "iopub.status.busy": "2021-10-02T09:41:20.838687Z",
     "iopub.status.idle": "2021-10-02T09:41:20.850211Z",
     "shell.execute_reply": "2021-10-02T09:41:20.849383Z",
     "shell.execute_reply.started": "2021-10-02T09:41:20.839759Z"
    }
   },
   "outputs": [],
   "source": [
    "data.isnull().sum()"
   ]
  },
  {
   "cell_type": "code",
   "execution_count": null,
   "metadata": {
    "execution": {
     "iopub.execute_input": "2021-10-02T09:41:26.406269Z",
     "iopub.status.busy": "2021-10-02T09:41:26.405908Z",
     "iopub.status.idle": "2021-10-02T09:41:26.412644Z",
     "shell.execute_reply": "2021-10-02T09:41:26.41153Z",
     "shell.execute_reply.started": "2021-10-02T09:41:26.406235Z"
    }
   },
   "outputs": [],
   "source": [
    "x = data.iloc[:,:-1]\n",
    "y = data.iloc[:,[-1]]"
   ]
  },
  {
   "cell_type": "markdown",
   "metadata": {},
   "source": [
    "## Before fitting the data to the model let's normalise tha data"
   ]
  },
  {
   "cell_type": "code",
   "execution_count": null,
   "metadata": {
    "execution": {
     "iopub.execute_input": "2021-10-02T09:42:00.587409Z",
     "iopub.status.busy": "2021-10-02T09:42:00.587106Z",
     "iopub.status.idle": "2021-10-02T09:42:00.844809Z",
     "shell.execute_reply": "2021-10-02T09:42:00.843747Z",
     "shell.execute_reply.started": "2021-10-02T09:42:00.58738Z"
    }
   },
   "outputs": [],
   "source": [
    "from sklearn.preprocessing import StandardScaler\n",
    "scaler = StandardScaler()"
   ]
  },
  {
   "cell_type": "code",
   "execution_count": null,
   "metadata": {
    "execution": {
     "iopub.execute_input": "2021-10-02T09:42:08.860566Z",
     "iopub.status.busy": "2021-10-02T09:42:08.860056Z",
     "iopub.status.idle": "2021-10-02T09:42:08.871216Z",
     "shell.execute_reply": "2021-10-02T09:42:08.870513Z",
     "shell.execute_reply.started": "2021-10-02T09:42:08.860534Z"
    }
   },
   "outputs": [],
   "source": [
    "x = scaler.fit_transform(x)\n",
    "y = scaler.fit_transform(y)"
   ]
  },
  {
   "cell_type": "markdown",
   "metadata": {},
   "source": [
    "## Spliting of the dataset"
   ]
  },
  {
   "cell_type": "code",
   "execution_count": null,
   "metadata": {
    "execution": {
     "iopub.execute_input": "2021-10-02T09:42:47.121449Z",
     "iopub.status.busy": "2021-10-02T09:42:47.120881Z",
     "iopub.status.idle": "2021-10-02T09:42:47.181269Z",
     "shell.execute_reply": "2021-10-02T09:42:47.180334Z",
     "shell.execute_reply.started": "2021-10-02T09:42:47.121414Z"
    }
   },
   "outputs": [],
   "source": [
    "from sklearn.model_selection import train_test_split\n",
    "\n",
    "x_train,x_test,y_train,y_test = train_test_split(x,y,test_size=1/3)"
   ]
  },
  {
   "cell_type": "markdown",
   "metadata": {},
   "source": [
    "## After looking at the result we come to know that it is a regression problem \n",
    "\n",
    "Now we have a choice to use Polynomial Regression, Rigid , RigidCV, ElasticNet\n",
    "\n",
    "So impliment any of these "
   ]
  },
  {
   "cell_type": "code",
   "execution_count": null,
   "metadata": {
    "execution": {
     "iopub.execute_input": "2021-10-02T09:46:55.197844Z",
     "iopub.status.busy": "2021-10-02T09:46:55.197304Z",
     "iopub.status.idle": "2021-10-02T09:46:55.201627Z",
     "shell.execute_reply": "2021-10-02T09:46:55.201057Z",
     "shell.execute_reply.started": "2021-10-02T09:46:55.197813Z"
    }
   },
   "outputs": [],
   "source": [
    "from sklearn.linear_model import Ridge\n",
    "\n",
    "reg = Ridge(alpha = 30)"
   ]
  },
  {
   "cell_type": "code",
   "execution_count": null,
   "metadata": {
    "execution": {
     "iopub.execute_input": "2021-10-02T09:46:55.789268Z",
     "iopub.status.busy": "2021-10-02T09:46:55.788739Z",
     "iopub.status.idle": "2021-10-02T09:46:55.796134Z",
     "shell.execute_reply": "2021-10-02T09:46:55.795523Z",
     "shell.execute_reply.started": "2021-10-02T09:46:55.789236Z"
    }
   },
   "outputs": [],
   "source": [
    "reg.fit(x_train,y_train)"
   ]
  },
  {
   "cell_type": "code",
   "execution_count": null,
   "metadata": {
    "execution": {
     "iopub.execute_input": "2021-10-02T09:46:56.346217Z",
     "iopub.status.busy": "2021-10-02T09:46:56.345757Z",
     "iopub.status.idle": "2021-10-02T09:46:56.350216Z",
     "shell.execute_reply": "2021-10-02T09:46:56.349627Z",
     "shell.execute_reply.started": "2021-10-02T09:46:56.346185Z"
    }
   },
   "outputs": [],
   "source": [
    "pred = reg.predict(x_test)"
   ]
  },
  {
   "cell_type": "code",
   "execution_count": null,
   "metadata": {
    "execution": {
     "iopub.execute_input": "2021-10-02T09:46:56.914708Z",
     "iopub.status.busy": "2021-10-02T09:46:56.914256Z",
     "iopub.status.idle": "2021-10-02T09:46:56.920859Z",
     "shell.execute_reply": "2021-10-02T09:46:56.919636Z",
     "shell.execute_reply.started": "2021-10-02T09:46:56.914678Z"
    }
   },
   "outputs": [],
   "source": [
    "from sklearn.metrics import mean_absolute_error, mean_squared_error\n",
    "\n",
    "MAE= mean_absolute_error(y_test, pred)\n",
    "MSE= mean_squared_error(y_test, pred)\n",
    "RMSE= np.sqrt(MSE)"
   ]
  },
  {
   "cell_type": "code",
   "execution_count": null,
   "metadata": {
    "execution": {
     "iopub.execute_input": "2021-10-02T09:46:57.54223Z",
     "iopub.status.busy": "2021-10-02T09:46:57.541922Z",
     "iopub.status.idle": "2021-10-02T09:46:57.546863Z",
     "shell.execute_reply": "2021-10-02T09:46:57.54582Z",
     "shell.execute_reply.started": "2021-10-02T09:46:57.542201Z"
    }
   },
   "outputs": [],
   "source": [
    "d = {\"Mean_Absolute_Error\" : MAE,\"Mean_Square_Error\": MSE,\"Root_Mean_Square_Error\":RMSE}"
   ]
  },
  {
   "cell_type": "code",
   "execution_count": null,
   "metadata": {
    "execution": {
     "iopub.execute_input": "2021-10-02T09:46:58.026368Z",
     "iopub.status.busy": "2021-10-02T09:46:58.025529Z",
     "iopub.status.idle": "2021-10-02T09:46:58.032447Z",
     "shell.execute_reply": "2021-10-02T09:46:58.031732Z",
     "shell.execute_reply.started": "2021-10-02T09:46:58.026315Z"
    }
   },
   "outputs": [],
   "source": [
    "d"
   ]
  }
 ],
 "metadata": {
  "kernelspec": {
   "display_name": "Python 3 (ipykernel)",
   "language": "python",
   "name": "python3"
  },
  "language_info": {
   "codemirror_mode": {
    "name": "ipython",
    "version": 3
   },
   "file_extension": ".py",
   "mimetype": "text/x-python",
   "name": "python",
   "nbconvert_exporter": "python",
   "pygments_lexer": "ipython3",
   "version": "3.10.0"
  }
 },
 "nbformat": 4,
 "nbformat_minor": 4
}
